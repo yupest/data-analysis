{
 "cells": [
  {
   "cell_type": "markdown",
   "metadata": {},
   "source": [
    "# Екатерина - VK"
   ]
  },
  {
   "cell_type": "code",
   "execution_count": 5,
   "metadata": {},
   "outputs": [],
   "source": [
    "import pandas as pd\n",
    "import requests\n",
    "from bs4 import BeautifulSoup\n",
    "import tqdm\n",
    "import time"
   ]
  },
  {
   "cell_type": "code",
   "execution_count": 3,
   "metadata": {},
   "outputs": [],
   "source": [
    "url_start = 'https://ostrovok.ru/hotel/russia/baykal/?q=6307686&guests=1&page={}&price=one&sid=19ee1388-d9ac-427f-a659-169c4a056d84'"
   ]
  },
  {
   "cell_type": "code",
   "execution_count": 6,
   "metadata": {},
   "outputs": [
    {
     "name": "stderr",
     "output_type": "stream",
     "text": [
      "<ipython-input-6-c1f012f6e982>:2: TqdmDeprecationWarning: This function will be removed in tqdm==5.0.0\n",
      "Please use `tqdm.notebook.tqdm` instead of `tqdm.tqdm_notebook`\n",
      "  for p in tqdm.tqdm_notebook(range(1, 23)):\n"
     ]
    },
    {
     "data": {
      "application/vnd.jupyter.widget-view+json": {
       "model_id": "1b306f2eb280419d884119b5fa4f0a7a",
       "version_major": 2,
       "version_minor": 0
      },
      "text/plain": [
       "HBox(children=(FloatProgress(value=0.0, max=22.0), HTML(value='')))"
      ]
     },
     "metadata": {},
     "output_type": "display_data"
    },
    {
     "name": "stdout",
     "output_type": "stream",
     "text": [
      "\n"
     ]
    }
   ],
   "source": [
    "res = []\n",
    "for p in tqdm.tqdm_notebook(range(1, 23)):\n",
    "    url = url_start.format(p)\n",
    "    response = requests.get(url)\n",
    "    page = BeautifulSoup(response.text, 'lxml')\n",
    "    hotel_name = page.find_all('h2', class_='zen-hotelcard-name')\n",
    "    # baikal_distance = page.find_all('div', class_='zen-hotelcard-distance')\n",
    "    #prise = page.find_all('div', class_='zen-hotelcard-rate-price-value') #при выводе доходит до 74 записей и начинает ругаться\n",
    "    res.append({'page':p, 'count_hotels':len(hotel_name)})\n",
    "    time.sleep(3)"
   ]
  },
  {
   "cell_type": "code",
   "execution_count": 7,
   "metadata": {},
   "outputs": [
    {
     "data": {
      "text/html": [
       "<div>\n",
       "<style scoped>\n",
       "    .dataframe tbody tr th:only-of-type {\n",
       "        vertical-align: middle;\n",
       "    }\n",
       "\n",
       "    .dataframe tbody tr th {\n",
       "        vertical-align: top;\n",
       "    }\n",
       "\n",
       "    .dataframe thead th {\n",
       "        text-align: right;\n",
       "    }\n",
       "</style>\n",
       "<table border=\"1\" class=\"dataframe\">\n",
       "  <thead>\n",
       "    <tr style=\"text-align: right;\">\n",
       "      <th></th>\n",
       "      <th>page</th>\n",
       "      <th>count_hotels</th>\n",
       "    </tr>\n",
       "  </thead>\n",
       "  <tbody>\n",
       "    <tr>\n",
       "      <th>0</th>\n",
       "      <td>1</td>\n",
       "      <td>25</td>\n",
       "    </tr>\n",
       "    <tr>\n",
       "      <th>1</th>\n",
       "      <td>2</td>\n",
       "      <td>25</td>\n",
       "    </tr>\n",
       "    <tr>\n",
       "      <th>2</th>\n",
       "      <td>3</td>\n",
       "      <td>25</td>\n",
       "    </tr>\n",
       "    <tr>\n",
       "      <th>3</th>\n",
       "      <td>4</td>\n",
       "      <td>25</td>\n",
       "    </tr>\n",
       "    <tr>\n",
       "      <th>4</th>\n",
       "      <td>5</td>\n",
       "      <td>25</td>\n",
       "    </tr>\n",
       "    <tr>\n",
       "      <th>5</th>\n",
       "      <td>6</td>\n",
       "      <td>25</td>\n",
       "    </tr>\n",
       "    <tr>\n",
       "      <th>6</th>\n",
       "      <td>7</td>\n",
       "      <td>25</td>\n",
       "    </tr>\n",
       "    <tr>\n",
       "      <th>7</th>\n",
       "      <td>8</td>\n",
       "      <td>25</td>\n",
       "    </tr>\n",
       "    <tr>\n",
       "      <th>8</th>\n",
       "      <td>9</td>\n",
       "      <td>25</td>\n",
       "    </tr>\n",
       "    <tr>\n",
       "      <th>9</th>\n",
       "      <td>10</td>\n",
       "      <td>25</td>\n",
       "    </tr>\n",
       "    <tr>\n",
       "      <th>10</th>\n",
       "      <td>11</td>\n",
       "      <td>25</td>\n",
       "    </tr>\n",
       "    <tr>\n",
       "      <th>11</th>\n",
       "      <td>12</td>\n",
       "      <td>25</td>\n",
       "    </tr>\n",
       "    <tr>\n",
       "      <th>12</th>\n",
       "      <td>13</td>\n",
       "      <td>25</td>\n",
       "    </tr>\n",
       "    <tr>\n",
       "      <th>13</th>\n",
       "      <td>14</td>\n",
       "      <td>25</td>\n",
       "    </tr>\n",
       "    <tr>\n",
       "      <th>14</th>\n",
       "      <td>15</td>\n",
       "      <td>25</td>\n",
       "    </tr>\n",
       "    <tr>\n",
       "      <th>15</th>\n",
       "      <td>16</td>\n",
       "      <td>6</td>\n",
       "    </tr>\n",
       "    <tr>\n",
       "      <th>16</th>\n",
       "      <td>17</td>\n",
       "      <td>0</td>\n",
       "    </tr>\n",
       "    <tr>\n",
       "      <th>17</th>\n",
       "      <td>18</td>\n",
       "      <td>0</td>\n",
       "    </tr>\n",
       "    <tr>\n",
       "      <th>18</th>\n",
       "      <td>19</td>\n",
       "      <td>0</td>\n",
       "    </tr>\n",
       "    <tr>\n",
       "      <th>19</th>\n",
       "      <td>20</td>\n",
       "      <td>0</td>\n",
       "    </tr>\n",
       "    <tr>\n",
       "      <th>20</th>\n",
       "      <td>21</td>\n",
       "      <td>0</td>\n",
       "    </tr>\n",
       "    <tr>\n",
       "      <th>21</th>\n",
       "      <td>22</td>\n",
       "      <td>0</td>\n",
       "    </tr>\n",
       "  </tbody>\n",
       "</table>\n",
       "</div>"
      ],
      "text/plain": [
       "    page  count_hotels\n",
       "0      1            25\n",
       "1      2            25\n",
       "2      3            25\n",
       "3      4            25\n",
       "4      5            25\n",
       "5      6            25\n",
       "6      7            25\n",
       "7      8            25\n",
       "8      9            25\n",
       "9     10            25\n",
       "10    11            25\n",
       "11    12            25\n",
       "12    13            25\n",
       "13    14            25\n",
       "14    15            25\n",
       "15    16             6\n",
       "16    17             0\n",
       "17    18             0\n",
       "18    19             0\n",
       "19    20             0\n",
       "20    21             0\n",
       "21    22             0"
      ]
     },
     "execution_count": 7,
     "metadata": {},
     "output_type": "execute_result"
    }
   ],
   "source": [
    "pd.DataFrame(res)"
   ]
  },
  {
   "cell_type": "markdown",
   "metadata": {},
   "source": []
  },
  {
   "cell_type": "markdown",
   "metadata": {},
   "source": [
    "Примерные точки карты, которые нужно получить. На них есть возможность перехода по другим 20 объектам"
   ]
  },
  {
   "cell_type": "code",
   "execution_count": 8,
   "metadata": {},
   "outputs": [],
   "source": [
    "urls = ['https://www.google.ru/maps/search/%D0%B4%D0%BE%D1%81%D1%82%D0%BE%D0%BF%D1%80%D0%B8%D0%BC%D0%B5%D1%87%D0%B0%D1%82%D0%B5%D0%BB%D1%8C%D0%BD%D0%BE%D1%81%D1%82%D0%B8/@51.7125234,103.9733562,9z/data=!3m1!4b1!4m2!2m1!6e1',\n",
    "       'https://www.google.ru/maps/search/%D0%B4%D0%BE%D1%81%D1%82%D0%BE%D0%BF%D1%80%D0%B8%D0%BC%D0%B5%D1%87%D0%B0%D1%82%D0%B5%D0%BB%D1%8C%D0%BD%D0%BE%D1%81%D1%82%D0%B8/@52.3985396,105.8933786,8z/data=!3m1!4b1!4m2!2m1!6e1',\n",
    "       'https://www.google.ru/maps/search/%D0%B4%D0%BE%D1%81%D1%82%D0%BE%D0%BF%D1%80%D0%B8%D0%BC%D0%B5%D1%87%D0%B0%D1%82%D0%B5%D0%BB%D1%8C%D0%BD%D0%BE%D1%81%D1%82%D0%B8/@53.2908288,106.6973561,8z/data=!3m1!4b1!4m2!2m1!6e1',\n",
    "       'https://www.google.ru/maps/search/%D0%B4%D0%BE%D1%81%D1%82%D0%BE%D0%BF%D1%80%D0%B8%D0%BC%D0%B5%D1%87%D0%B0%D1%82%D0%B5%D0%BB%D1%8C%D0%BD%D0%BE%D1%81%D1%82%D0%B8/@54.6275538,108.2470177,8z/data=!4m2!2m1!6e1',\n",
    "       'https://www.google.ru/maps/search/%D0%B4%D0%BE%D1%81%D1%82%D0%BE%D0%BF%D1%80%D0%B8%D0%BC%D0%B5%D1%87%D0%B0%D1%82%D0%B5%D0%BB%D1%8C%D0%BD%D0%BE%D1%81%D1%82%D0%B8/@53.5897138,103.5288556,6.57z/data=!4m2!2m1!6e1']"
   ]
  },
  {
   "cell_type": "code",
   "execution_count": 9,
   "metadata": {},
   "outputs": [],
   "source": [
    "from selenium import webdriver\n",
    "from selenium.webdriver.common.action_chains import ActionChains\n",
    "from multiprocessing.dummy import Pool\n",
    "from multiprocessing import cpu_count, freeze_support\n",
    "import json"
   ]
  },
  {
   "cell_type": "code",
   "execution_count": 10,
   "metadata": {},
   "outputs": [],
   "source": [
    "driver = webdriver.Chrome()"
   ]
  },
  {
   "cell_type": "code",
   "execution_count": 11,
   "metadata": {},
   "outputs": [],
   "source": [
    "driver.get(urls[-1])"
   ]
  },
  {
   "cell_type": "code",
   "execution_count": 14,
   "metadata": {},
   "outputs": [
    {
     "data": {
      "text/plain": [
       "[<selenium.webdriver.remote.webelement.WebElement (session=\"ae5c0f6b9f185f797c1bfbf068f2d7fa\", element=\"9f3dbf05-e715-4172-bed7-4f2c50fa23ad\")>,\n",
       " <selenium.webdriver.remote.webelement.WebElement (session=\"ae5c0f6b9f185f797c1bfbf068f2d7fa\", element=\"cd425a5e-c3c3-4100-962f-bc00fb63438d\")>,\n",
       " <selenium.webdriver.remote.webelement.WebElement (session=\"ae5c0f6b9f185f797c1bfbf068f2d7fa\", element=\"b572435c-fb77-4d32-bb34-9761c802466b\")>,\n",
       " <selenium.webdriver.remote.webelement.WebElement (session=\"ae5c0f6b9f185f797c1bfbf068f2d7fa\", element=\"0c3917b7-6317-418e-b852-006491603512\")>,\n",
       " <selenium.webdriver.remote.webelement.WebElement (session=\"ae5c0f6b9f185f797c1bfbf068f2d7fa\", element=\"509c47ac-658c-4325-b0eb-a0c4d4d87bc7\")>,\n",
       " <selenium.webdriver.remote.webelement.WebElement (session=\"ae5c0f6b9f185f797c1bfbf068f2d7fa\", element=\"fc531c25-6282-45f6-a288-7163a067eee0\")>]"
      ]
     },
     "execution_count": 14,
     "metadata": {},
     "output_type": "execute_result"
    }
   ],
   "source": [
    "# это (возможно) сами карточки достопримечательностей\n",
    "driver.find_elements_by_class_name(\"hfpxzc\")"
   ]
  },
  {
   "cell_type": "code",
   "execution_count": 22,
   "metadata": {},
   "outputs": [],
   "source": [
    "# функция скрола - автоматическое прокручивание страницы до конца\n",
    "def scroll(driver, path, count):\n",
    "    items = []\n",
    "    flag = True\n",
    "    try:\n",
    "        item = driver.find_element_by_xpath('//*[@id=\"QA0Szd\"]/div/div/div[1]/div[2]/div/div[1]/div/div/div[2]/div[1]')\n",
    "        last_height = driver.execute_script(\"return arguments[0].scrollHeight\", item)\n",
    "    except:\n",
    "        flag = False\n",
    "\n",
    "\n",
    "    while flag:\n",
    "#         try:\n",
    "#             # Scroll down to bottom\n",
    "#             driver.execute_script(\"arguments[0].scrollTo(0, arguments[0].scrollHeight)\", item)\n",
    "#             new_height = driver.execute_script(\"return arguments[0].scrollHeight\", item)\n",
    "#         except:\n",
    "#             new_height = last_height\n",
    "#             pass\n",
    "        new_height = last_height\n",
    "        # Wait to load page\n",
    "        start_time = time.time()\n",
    "        while new_height == last_height:\n",
    "            try:\n",
    "                driver.execute_script(\"arguments[0].scrollTo(0, arguments[0].scrollHeight)\", item)\n",
    "                item = driver.find_element_by_xpath('//*[@id=\"QA0Szd\"]/div/div/div[1]/div[2]/div/div[1]/div/div/div[2]/div[1]')\n",
    "                # Calculate new scroll height and compare with last scroll height\n",
    "                new_height = driver.execute_script(\"return arguments[0].scrollHeight\", item)          \n",
    "                items = driver.find_elements_by_xpath(path)\n",
    "                if (len(items) >= count) or (time.time()-start_time)>7:\n",
    "                    flag = False\n",
    "                    break\n",
    "            except Exception as e:\n",
    "                print('3 '+e)\n",
    "                flag = False\n",
    "                break\n",
    "        last_height = new_height\n",
    "\n",
    "    items = driver.find_elements_by_xpath(path) \n",
    "    return items"
   ]
  },
  {
   "cell_type": "code",
   "execution_count": 21,
   "metadata": {},
   "outputs": [
    {
     "data": {
      "text/plain": [
       "'Результаты по запросу \"достопримечательности\"'"
      ]
     },
     "execution_count": 21,
     "metadata": {},
     "output_type": "execute_result"
    }
   ],
   "source": [
    "# это область прокрутки\n",
    "# driver.find_element_by_xpath('//*[@id=\"QA0Szd\"]/div/div/div[1]/div[2]/div/div[1]/div/div/div[2]/div[1]').get_attribute('aria-label')"
   ]
  },
  {
   "cell_type": "code",
   "execution_count": 27,
   "metadata": {},
   "outputs": [],
   "source": [
    "# результатом скролла являются объекты - достопримечательности\n",
    "result = scroll(driver, '//div[@class = \"Nv2PK THOPZb CpccDe\"]', 20)"
   ]
  },
  {
   "cell_type": "code",
   "execution_count": 29,
   "metadata": {},
   "outputs": [
    {
     "data": {
      "text/plain": [
       "20"
      ]
     },
     "execution_count": 29,
     "metadata": {},
     "output_type": "execute_result"
    }
   ],
   "source": [
    "len(result)"
   ]
  },
  {
   "cell_type": "code",
   "execution_count": 31,
   "metadata": {},
   "outputs": [],
   "source": [
    "# Нажать на кнопку - следующая страница\n",
    "driver.execute_script(\"arguments[0].click();\", driver.find_element_by_id(\"ppdPk-Ej1Yeb-LgbsSe-tJiF1e\"))"
   ]
  },
  {
   "cell_type": "markdown",
   "metadata": {},
   "source": [
    "Тут нужно дописать - формирование таблицы из объектов - достопримечательностей - с названиями и ссылками на них, переход на другие страницы и другие ссылки из `urls`.\n",
    "Затем обход сформированной таблицы с сылками на объекты для сбора большей информации. Подробнее смотреть: https://github.com/yupest/Novoznamenskiy_Krasnodar/blob/main/notebooks/2%20-%20Collecting%20metadata.ipynb \n",
    "\n",
    "Прим: вместо log_progress использовать библиотеку tqdm - `tqdm.tqdm_notebook` или `tqdm.notebook.tqdm`"
   ]
  },
  {
   "cell_type": "code",
   "execution_count": null,
   "metadata": {},
   "outputs": [],
   "source": []
  }
 ],
 "metadata": {
  "kernelspec": {
   "display_name": "Python 3",
   "language": "python",
   "name": "python3"
  },
  "language_info": {
   "codemirror_mode": {
    "name": "ipython",
    "version": 3
   },
   "file_extension": ".py",
   "mimetype": "text/x-python",
   "name": "python",
   "nbconvert_exporter": "python",
   "pygments_lexer": "ipython3",
   "version": "3.8.3"
  }
 },
 "nbformat": 4,
 "nbformat_minor": 4
}
