{
 "cells": [
  {
   "cell_type": "markdown",
   "metadata": {},
   "source": [
    "# Selenium\n",
    "\n",
    "https://www.selenium.dev/\n",
    "\n",
    "Установка:\n",
    "1. Установить selenium\n",
    "```\n",
    "!pip install selenium\n",
    "```\n",
    "2. Установить [Chrome браузер](https://support.google.com/chrome/answer/95346?hl=ru&co=GENIE.Platform%3DDesktop) и проверить его версию (Настройки -> О бразуере) \n",
    "<a href=\"https://ibb.co/6PMThsc\"><img src=\"https://i.ibb.co/HzSbvgL/image.png\" alt=\"image\" border=\"0\"></a>\n",
    "3. Скачать [WebDriver](https://googlechromelabs.github.io/chrome-for-testing/#stable) в соответствии с версией Chrome\n",
    "<a href=\"https://ibb.co/TgZs0HW\"><img src=\"https://i.ibb.co/W2QLzcV/image.png\" alt=\"image\" border=\"0\"></a>\n",
    "4. Распаковываем chromedriver и для удобства кладем в папку со скриптом."
   ]
  },
  {
   "cell_type": "markdown",
   "metadata": {},
   "source": [
    "## Примеры кода\n",
    "https://github.com/SeleniumHQ/seleniumhq.github.io/tree/trunk/examples/python"
   ]
  },
  {
   "cell_type": "code",
   "execution_count": 20,
   "metadata": {},
   "outputs": [
    {
     "name": "stdout",
     "output_type": "stream",
     "text": [
      "https://www.selenium.dev/selenium/web/web-form.html\n",
      "\n",
      "  <main class=\"flex-shrink-2\">\n",
      "    <div class=\"container\">\n",
      "      <div class=\"row\">\n",
      "        <div class=\"col-12\">\n",
      "          <h1 class=\"display-6\">Web form</h1>\n",
      "        </div>\n",
      "      </div>\n",
      "      <form method=\"get\" action=\"submitted-form.html\">\n",
      "        <div class=\"row\">\n",
      "          <div class=\"col-md-4 py-2\">\n",
      "            <label class=\"form-label w-100\">Text input\n",
      "              <input type=\"text\" class=\"form-control\" name=\"my-text\" id=\"my-text-id\" myprop=\"myvalue\">\n",
      "            </label>\n",
      "\n",
      "            <label class=\"form-label w-100\">Password\n",
      "              <input type=\"password\" class=\"form-control\" name=\"my-password\" autocomplete=\"off\">\n",
      "            </label>\n",
      "\n",
      "            <label class=\"form-label w-100\">Textarea\n",
      "              <textarea class=\"form-control\" name=\"my-textarea\" rows=\"3\"></textarea>\n",
      "            </label>\n",
      "\n",
      "            <label class=\"form-label w-100\">Disabled input\n",
      "              <input class=\"form-control\" type=\"text\" name=\"my-disabled\" placeholder=\"Disabled input\" disabled=\"\">\n",
      "            </label>\n",
      "\n",
      "            <label class=\"form-label w-100\">Readonly input\n",
      "              <input class=\"form-control\" type=\"text\" name=\"my-readonly\" value=\"Readonly input\" readonly=\"\">\n",
      "            </label>\n",
      "\n",
      "            <div class=\"form-group tp-align-right mt-3\">\n",
      "              <a href=\"./index.html\">\n",
      "                Return to index\n",
      "              </a>\n",
      "            </div>\n",
      "          </div>\n",
      "\n",
      "          <div class=\"col-md-4 py-2\">\n",
      "            <label class=\"form-label w-100\">Dropdown (select)\n",
      "              <select class=\"form-select\" name=\"my-select\">\n",
      "                <option selected=\"\">Open this select menu</option>\n",
      "                <option value=\"1\">One</option>\n",
      "                <option value=\"2\">Two</option>\n",
      "                <option value=\"3\">Three</option>\n",
      "              </select>\n",
      "            </label>\n",
      "\n",
      "            <label class=\"form-label w-100\">Dropdown (datalist)\n",
      "              <input class=\"form-control\" list=\"my-options\" name=\"my-datalist\" placeholder=\"Type to search...\">\n",
      "              <datalist id=\"my-options\">\n",
      "                <option value=\"San Francisco\">\n",
      "                </option><option value=\"New York\">\n",
      "                </option><option value=\"Seattle\">\n",
      "                </option><option value=\"Los Angeles\">\n",
      "                </option><option value=\"Chicago\">\n",
      "              </option></datalist>\n",
      "            </label>\n",
      "\n",
      "            <label class=\"form-label w-100\">File input\n",
      "              <input class=\"form-control\" type=\"file\" name=\"my-file\">\n",
      "            </label>\n",
      "\n",
      "            <div class=\"form-check\">\n",
      "              <label class=\"form-check-label w-100\">\n",
      "                <input class=\"form-check-input\" type=\"checkbox\" name=\"my-check\" id=\"my-check-1\" checked=\"\">\n",
      "                Checked checkbox\n",
      "              </label>\n",
      "\n",
      "              <label class=\"form-check-label w-100\">\n",
      "                <input class=\"form-check-input\" type=\"checkbox\" name=\"my-check\" id=\"my-check-2\">\n",
      "                Default checkbox\n",
      "              </label>\n",
      "            </div>\n",
      "\n",
      "            <div class=\"form-check\">\n",
      "              <label class=\"form-check-label w-100\">\n",
      "                <input class=\"form-check-input\" type=\"radio\" name=\"my-radio\" id=\"my-radio-1\" checked=\"\">\n",
      "                Checked radio\n",
      "              </label>\n",
      "            </div>\n",
      "            <div class=\"form-check\">\n",
      "              <label class=\"form-check-label w-100\">\n",
      "                <input class=\"form-check-input\" type=\"radio\" name=\"my-radio\" id=\"my-radio-2\">\n",
      "                Default radio\n",
      "              </label>\n",
      "            </div>\n",
      "\n",
      "            <button type=\"submit\" class=\"btn btn-outline-primary mt-3\">Submit</button>\n",
      "\n",
      "          </div>\n",
      "\n",
      "          <div class=\"col-md-4 py-2\">\n",
      "            <label class=\"form-label w-100\">Color picker\n",
      "              <input type=\"color\" class=\"form-control form-control-color\" name=\"my-colors\" value=\"#563d7c\">\n",
      "            </label>\n",
      "\n",
      "            <label class=\"form-label w-100\">Date picker\n",
      "              <input type=\"text\" class=\"form-control\" name=\"my-date\">\n",
      "            </label>\n",
      "\n",
      "            <label class=\"form-label w-100\">Example range\n",
      "              <input type=\"range\" class=\"form-range\" name=\"my-range\" min=\"0\" max=\"10\" step=\"1\" value=\"5\">\n",
      "            </label>\n",
      "\n",
      "            <input type=\"hidden\" name=\"my-hidden\">\n",
      "          </div>\n",
      "        </div>\n",
      "      </form>\n",
      "    </div>\n",
      "  </main>\n",
      "  <script>\n",
      "    $('[name=my-date]').datepicker({\n",
      "    });\n",
      "  </script>\n",
      "\n",
      "\n",
      "\n",
      "\n",
      "[]\n"
     ]
    }
   ],
   "source": [
    "from selenium import webdriver\n",
    "from selenium.webdriver.common.by import By\n",
    "from selenium.webdriver.chrome.options import Options\n",
    "\n",
    "# безголовый режим - запускает драйвер в фоновом режиме\n",
    "# chrome_options = Options()\n",
    "# chrome_options.add_argument(\"--headless\")\n",
    "# driver = webdriver.Chrome(options=chrome_options)\n",
    "\n",
    "driver = webdriver.Chrome()\n",
    "\n",
    "driver.get(\"https://www.selenium.dev/selenium/web/web-form.html\")\n",
    "\n",
    "# текущая ссылка страницы\n",
    "print(driver.current_url)\n",
    "\n",
    "# код элемента на странице\n",
    "print(driver.execute_script(\"return arguments[0].innerHTML;\", driver.find_element(By.TAG_NAME, 'body')) )\n",
    "\n",
    "title = driver.title\n",
    "\n",
    "driver.implicitly_wait(0.5)\n",
    "\n",
    "text_box = driver.find_element(by=By.NAME, value=\"my-text\")\n",
    "submit_button = driver.find_element(by=By.CSS_SELECTOR, value=\"button\")\n",
    "\n",
    "# ввод в поле\n",
    "text_box.send_keys(\"Selenium\")\n",
    "submit_button.click()\n",
    "\n",
    "message = driver.find_element(by=By.ID, value=\"message\")\n",
    "text = message.text\n",
    "\n",
    "print(driver.get_cookies())\n",
    "\n",
    "# driver.quit()"
   ]
  },
  {
   "cell_type": "code",
   "execution_count": 14,
   "metadata": {},
   "outputs": [
    {
     "data": {
      "text/plain": [
       "('Web form', 'Received!')"
      ]
     },
     "execution_count": 14,
     "metadata": {},
     "output_type": "execute_result"
    }
   ],
   "source": [
    "title, text"
   ]
  },
  {
   "cell_type": "markdown",
   "metadata": {},
   "source": [
    "Шпаргалка по XPATH и CSS"
   ]
  },
  {
   "cell_type": "code",
   "execution_count": 165,
   "metadata": {},
   "outputs": [
    {
     "data": {
      "text/html": [
       "<div>\n",
       "<style scoped>\n",
       "    .dataframe tbody tr th:only-of-type {\n",
       "        vertical-align: middle;\n",
       "    }\n",
       "\n",
       "    .dataframe tbody tr th {\n",
       "        vertical-align: top;\n",
       "    }\n",
       "\n",
       "    .dataframe thead th {\n",
       "        text-align: right;\n",
       "    }\n",
       "</style>\n",
       "<table border=\"1\" class=\"dataframe\">\n",
       "  <thead>\n",
       "    <tr style=\"text-align: right;\">\n",
       "      <th></th>\n",
       "      <th>Goal</th>\n",
       "      <th>CSS 3</th>\n",
       "      <th>XPath</th>\n",
       "    </tr>\n",
       "  </thead>\n",
       "  <tbody>\n",
       "    <tr>\n",
       "      <th>0</th>\n",
       "      <td>All Elements</td>\n",
       "      <td>*</td>\n",
       "      <td>//*</td>\n",
       "    </tr>\n",
       "    <tr>\n",
       "      <th>1</th>\n",
       "      <td>All P Elements</td>\n",
       "      <td>p</td>\n",
       "      <td>//p</td>\n",
       "    </tr>\n",
       "    <tr>\n",
       "      <th>2</th>\n",
       "      <td>All Child Elements</td>\n",
       "      <td>p&gt;*</td>\n",
       "      <td>//p/*</td>\n",
       "    </tr>\n",
       "    <tr>\n",
       "      <th>3</th>\n",
       "      <td>Element By ID</td>\n",
       "      <td>#foo</td>\n",
       "      <td>//*[@id=’foo’]</td>\n",
       "    </tr>\n",
       "    <tr>\n",
       "      <th>4</th>\n",
       "      <td>Element By Class</td>\n",
       "      <td>.foo</td>\n",
       "      <td>//*[contains(@class,’foo’)]</td>\n",
       "    </tr>\n",
       "    <tr>\n",
       "      <th>5</th>\n",
       "      <td>Element With Attribute</td>\n",
       "      <td>*[title]</td>\n",
       "      <td>//*[@title]</td>\n",
       "    </tr>\n",
       "    <tr>\n",
       "      <th>6</th>\n",
       "      <td>First Child of All P</td>\n",
       "      <td>p&gt;*:first-child</td>\n",
       "      <td>//p/*[0]</td>\n",
       "    </tr>\n",
       "    <tr>\n",
       "      <th>7</th>\n",
       "      <td>All P with an A child</td>\n",
       "      <td>Not possible</td>\n",
       "      <td>//p[a]</td>\n",
       "    </tr>\n",
       "    <tr>\n",
       "      <th>8</th>\n",
       "      <td>Next Element</td>\n",
       "      <td>p + *</td>\n",
       "      <td>//p/following-sibling::*[0]</td>\n",
       "    </tr>\n",
       "    <tr>\n",
       "      <th>9</th>\n",
       "      <td>Previous Element</td>\n",
       "      <td>Not possible</td>\n",
       "      <td>//p/preceding-sibling::*[0]</td>\n",
       "    </tr>\n",
       "  </tbody>\n",
       "</table>\n",
       "</div>"
      ],
      "text/plain": [
       "                     Goal            CSS 3                   XPath       \n",
       "0            All Elements                *  //*                          \n",
       "1          All P Elements                p  //p                          \n",
       "2      All Child Elements              p>*  //p/*                        \n",
       "3           Element By ID             #foo           //*[@id=’foo’]      \n",
       "4        Element By Class             .foo    //*[contains(@class,’foo’)]\n",
       "5  Element With Attribute         *[title]  //*[@title]                  \n",
       "6    First Child of All P  p>*:first-child  //p/*[0]                     \n",
       "7   All P with an A child     Not possible  //p[a]                       \n",
       "8            Next Element            p + *    //p/following-sibling::*[0]\n",
       "9        Previous Element     Not possible    //p/preceding-sibling::*[0]"
      ]
     },
     "execution_count": 165,
     "metadata": {},
     "output_type": "execute_result"
    }
   ],
   "source": [
    "pd.read_csv('https://gist.githubusercontent.com/slotix/11f0930b2d46d2946249a10e6216735b/raw/9ece7417bb5d13c032f1e070ace7142a908b133d/css3vsxpath.csv')"
   ]
  },
  {
   "cell_type": "markdown",
   "metadata": {},
   "source": [
    "# Карты GP"
   ]
  },
  {
   "cell_type": "markdown",
   "metadata": {},
   "source": [
    "Примерные точки карты, которые нужно получить. На них есть возможность перехода по другим 20 объектам"
   ]
  },
  {
   "cell_type": "code",
   "execution_count": 21,
   "metadata": {},
   "outputs": [],
   "source": [
    "urls = ['https://www.google.ru/maps/search/%D0%B4%D0%BE%D1%81%D1%82%D0%BE%D0%BF%D1%80%D0%B8%D0%BC%D0%B5%D1%87%D0%B0%D1%82%D0%B5%D0%BB%D1%8C%D0%BD%D0%BE%D1%81%D1%82%D0%B8/@51.7125234,103.9733562,9z/data=!3m1!4b1!4m2!2m1!6e1',\n",
    "       'https://www.google.ru/maps/search/%D0%B4%D0%BE%D1%81%D1%82%D0%BE%D0%BF%D1%80%D0%B8%D0%BC%D0%B5%D1%87%D0%B0%D1%82%D0%B5%D0%BB%D1%8C%D0%BD%D0%BE%D1%81%D1%82%D0%B8/@52.3985396,105.8933786,8z/data=!3m1!4b1!4m2!2m1!6e1',\n",
    "       'https://www.google.ru/maps/search/%D0%B4%D0%BE%D1%81%D1%82%D0%BE%D0%BF%D1%80%D0%B8%D0%BC%D0%B5%D1%87%D0%B0%D1%82%D0%B5%D0%BB%D1%8C%D0%BD%D0%BE%D1%81%D1%82%D0%B8/@53.2908288,106.6973561,8z/data=!3m1!4b1!4m2!2m1!6e1',\n",
    "       'https://www.google.ru/maps/search/%D0%B4%D0%BE%D1%81%D1%82%D0%BE%D0%BF%D1%80%D0%B8%D0%BC%D0%B5%D1%87%D0%B0%D1%82%D0%B5%D0%BB%D1%8C%D0%BD%D0%BE%D1%81%D1%82%D0%B8/@54.6275538,108.2470177,8z/data=!4m2!2m1!6e1',\n",
    "       'https://www.google.ru/maps/search/%D0%B4%D0%BE%D1%81%D1%82%D0%BE%D0%BF%D1%80%D0%B8%D0%BC%D0%B5%D1%87%D0%B0%D1%82%D0%B5%D0%BB%D1%8C%D0%BD%D0%BE%D1%81%D1%82%D0%B8/@53.5897138,103.5288556,6.57z/data=!4m2!2m1!6e1']"
   ]
  },
  {
   "cell_type": "code",
   "execution_count": 22,
   "metadata": {},
   "outputs": [],
   "source": [
    "from selenium import webdriver\n",
    "from selenium.webdriver.common.action_chains import ActionChains\n",
    "from selenium.webdriver.common.by import By\n",
    "import time\n",
    "import re\n",
    "import json"
   ]
  },
  {
   "cell_type": "code",
   "execution_count": 23,
   "metadata": {},
   "outputs": [],
   "source": [
    "driver = webdriver.Chrome()"
   ]
  },
  {
   "cell_type": "code",
   "execution_count": 48,
   "metadata": {},
   "outputs": [],
   "source": [
    "driver.get(urls[-1])"
   ]
  },
  {
   "cell_type": "markdown",
   "metadata": {},
   "source": [
    "## Автоскрол "
   ]
  },
  {
   "cell_type": "markdown",
   "metadata": {},
   "source": [
    "Найти область прокрутки и элементы блоков"
   ]
  },
  {
   "cell_type": "code",
   "execution_count": 49,
   "metadata": {},
   "outputs": [
    {
     "data": {
      "text/plain": [
       "6"
      ]
     },
     "execution_count": 49,
     "metadata": {},
     "output_type": "execute_result"
    }
   ],
   "source": [
    "area = driver.find_element(By.XPATH, '//*[@id=\"QA0Szd\"]/div/div/div[1]/div[2]/div/div[1]/div/div/div[1]/div[1]')\n",
    "elements = driver.find_elements(By.CLASS_NAME, 'hfpxzc') \n",
    "len(elements)"
   ]
  },
  {
   "cell_type": "code",
   "execution_count": 50,
   "metadata": {},
   "outputs": [],
   "source": [
    "driver.execute_script(\"arguments[0].scrollTo(0, arguments[0].scrollHeight)\", area)"
   ]
  },
  {
   "cell_type": "code",
   "execution_count": 51,
   "metadata": {},
   "outputs": [
    {
     "data": {
      "text/plain": [
       "1819"
      ]
     },
     "execution_count": 51,
     "metadata": {},
     "output_type": "execute_result"
    }
   ],
   "source": [
    "height = driver.execute_script(\"return arguments[0].scrollHeight\", area)\n",
    "height"
   ]
  },
  {
   "cell_type": "code",
   "execution_count": 52,
   "metadata": {},
   "outputs": [],
   "source": [
    "elements = driver.find_elements(By.CLASS_NAME, 'hfpxzc') "
   ]
  },
  {
   "cell_type": "code",
   "execution_count": 53,
   "metadata": {},
   "outputs": [
    {
     "data": {
      "text/plain": [
       "12"
      ]
     },
     "execution_count": 53,
     "metadata": {},
     "output_type": "execute_result"
    }
   ],
   "source": [
    "len(elements)"
   ]
  },
  {
   "cell_type": "markdown",
   "metadata": {},
   "source": [
    "## Нажать на кнопку \n",
    "\"К началу\""
   ]
  },
  {
   "cell_type": "code",
   "execution_count": 54,
   "metadata": {},
   "outputs": [],
   "source": [
    "driver.execute_script(\"arguments[0].click();\", driver.find_element(By.XPATH, '//button[@aria-label=\"К началу\"]'))"
   ]
  },
  {
   "cell_type": "code",
   "execution_count": 62,
   "metadata": {
    "scrolled": true
   },
   "outputs": [
    {
     "data": {
      "text/plain": [
       "['https://www.google.ru/maps/place/%D0%A3%D0%BB%D0%B8%D1%87%D0%BD%D1%8B%D0%B5+%D0%A7%D0%B0%D1%81%D1%8B/data=!4m7!3m6!1s0x5d079de3cdd151ab:0xe57c7fce0a806cab!8m2!3d52.5370823!4d103.8604347!16s%2Fg%2F11fntllc20!19sChIJq1HRzeOdB10Rq2yACs5_fOU?authuser=0&hl=ru&rclk=1',\n",
       " 'https://www.google.ru/maps/place/%D0%9F%D0%B0%D0%BC%D1%8F%D1%82%D0%BD%D1%8B%D0%B9+%D0%B7%D0%BD%D0%B0%D0%BA+%D0%BC%D0%B5%D0%B4%D0%B8%D1%86%D0%B8%D0%BD%D1%81%D0%BA%D0%B8%D0%BC+%D1%80%D0%B0%D0%B1%D0%BE%D1%82%D0%BD%D0%B8%D0%BA%D0%B0%D0%BC+%D0%90%D0%BD%D0%B3%D0%B0%D1%80%D1%81%D0%BA%D0%B0/data=!4m7!3m6!1s0x5d079dea086dec01:0x24c7cbd5f4aab135!8m2!3d52.5292771!4d103.872675!16s%2Fg%2F11pdr1fshm!19sChIJAextCOqdB10RNbGq9NXLxyQ?authuser=0&hl=ru&rclk=1',\n",
       " 'https://www.google.ru/maps/place/%D0%9C%D1%83%D0%B7%D0%B5%D0%B9+%D0%9F%D0%BE%D0%B1%D0%B5%D0%B4%D1%8B/data=!4m7!3m6!1s0x5d079ceb758c49f7:0x732fdb0efd44fc26!8m2!3d52.51254!4d103.8620161!16s%2Fg%2F1hf0_qr4w!19sChIJ90mMdeucB10RJvxE_Q7bL3M?authuser=0&hl=ru&rclk=1',\n",
       " 'https://www.google.ru/maps/place/%D0%9F%D0%B0%D1%80%D0%BA+%22%D0%9E%D1%82%D1%80%D0%B0%D0%B6%D0%B5%D0%BD%D0%B8%D0%B5+%D0%A1%D0%BE%D0%B2%D0%B5%D1%82%D1%81%D0%BA%D0%BE%D0%B3%D0%BE+%D0%A1%D0%BE%D1%8E%D0%B7%D0%B0%22./data=!4m7!3m6!1s0x5d079d307f327b0f:0x45282c0ff27b23df!8m2!3d52.5251064!4d103.8644376!16s%2Fg%2F11s0pw14gf!19sChIJD3syfzCdB10R3yN78g8sKEU?authuser=0&hl=ru&rclk=1',\n",
       " 'https://www.google.ru/maps/place/%D0%9C%D1%83%D0%B7%D0%B5%D0%B9+%D0%9C%D0%B8%D0%BD%D0%B5%D1%80%D0%B0%D0%BB%D0%BE%D0%B2/data=!4m7!3m6!1s0x5d079d3d5c81174f:0x5a8f3fce19be6b57!8m2!3d52.5422212!4d103.8847852!16s%2Fg%2F1yfjj6qp8!19sChIJTxeBXD2dB10RV2u-Gc4_j1o?authuser=0&hl=ru&rclk=1',\n",
       " 'https://www.google.ru/maps/place/%D0%BF%D0%B0%D1%80%D0%BA+%D0%A1%D1%82%D1%80%D0%BE%D0%B8%D1%82%D0%B5%D0%BB%D0%B5%D0%B9/data=!4m7!3m6!1s0x5d079d26b325aadf:0xff035e70ae481f92!8m2!3d52.5348115!4d103.8870114!16s%2Fg%2F124strt94!19sChIJ36olsyadB10Rkh9IrnBeA_8?authuser=0&hl=ru&rclk=1',\n",
       " 'https://www.google.ru/maps/place/%D0%90%D0%BD%D0%B3%D0%B0%D1%80%D1%81%D0%BA%D0%B8%D0%B9+%D0%93%D0%BE%D1%80%D0%BE%D0%B4%D1%81%D0%BA%D0%BE%D0%B9+%D0%9C%D1%83%D0%B7%D0%B5%D0%B9/data=!4m7!3m6!1s0x5d079d3d43129165:0xffdbbec1fdc9da3a!8m2!3d52.5422222!4d103.885!16s%2Fg%2F1hf0yy1_p!19sChIJZZESQz2dB10ROtrJ_cG-2_8?authuser=0&hl=ru&rclk=1',\n",
       " 'https://www.google.ru/maps/place/%D0%BF%D0%B0%D1%80%D0%BA+%D0%9D%D0%B5%D1%84%D1%82%D0%B5%D1%85%D0%B8%D0%BC%D0%B8%D0%BA%D0%BE%D0%B2/data=!4m7!3m6!1s0x5d079d3d6297282d:0xbf7d4cb421b60d75!8m2!3d52.5430047!4d103.8838866!16s%2Fg%2F124t263h_!19sChIJLSiXYj2dB10RdQ22IbRMfb8?authuser=0&hl=ru&rclk=1',\n",
       " 'https://www.google.ru/maps/place/%D0%90%D0%BD%D0%B3%D0%B0%D1%80%D1%81%D0%BA%D0%B8%D0%B9+%22%D0%93%D0%BE%D1%80%D0%BE%D0%B4%D1%81%D0%BA%D0%BE%D0%B9+%D0%BC%D1%83%D0%B7%D0%B5%D0%B9+%D1%87%D0%B0%D1%81%D0%BE%D0%B2%22/data=!4m7!3m6!1s0x5d079d3ceb4f3691:0x83191239a81e73a8!8m2!3d52.542224!4d103.88969!16s%2Fg%2F11b6vlgxmv!19sChIJkTZP6zydB10RqHMeqDkSGYM?authuser=0&hl=ru&rclk=1',\n",
       " 'https://www.google.ru/maps/place/%D0%A1%D1%83%D1%80%D0%BE%D0%BA/data=!4m7!3m6!1s0x5d079d18dfa294dd:0xfb1a168a32b939e2!8m2!3d52.5379355!4d103.8779758!16s%2Fg%2F1yfjphwxb!19sChIJ3ZSi3xidB10R4jm5MooWGvs?authuser=0&hl=ru&rclk=1',\n",
       " 'https://www.google.ru/maps/place/%D0%B3%D0%BE%D0%BB%D1%83%D0%B1%D0%B8+%D0%BC%D0%B8%D1%80%D0%B0/data=!4m7!3m6!1s0x5d079d3ad448b6db:0xd68e1dab6be45bac!8m2!3d52.5121328!4d103.861511!16s%2Fg%2F11rn052c7b!19sChIJ27ZI1DqdB10RrFvka6sdjtY?authuser=0&hl=ru&rclk=1',\n",
       " 'https://www.google.ru/maps/place/%D0%9A%D1%80%D1%8B%D0%BB%D1%8C%D1%8F/data=!4m7!3m6!1s0x5d079d12c01542f3:0x15ea9f4b29a13a30!8m2!3d52.5519196!4d103.8753888!16s%2Fg%2F11c4m0n68m!19sChIJ80IVwBKdB10RMDqhKUuf6hU?authuser=0&hl=ru&rclk=1']"
      ]
     },
     "execution_count": 62,
     "metadata": {},
     "output_type": "execute_result"
    }
   ],
   "source": [
    "urls = [url.get_attribute('href') for url in elements]\n",
    "urls"
   ]
  },
  {
   "cell_type": "code",
   "execution_count": 71,
   "metadata": {},
   "outputs": [],
   "source": [
    "driver.get(urls[0])"
   ]
  },
  {
   "cell_type": "code",
   "execution_count": 74,
   "metadata": {},
   "outputs": [],
   "source": [
    "import re"
   ]
  },
  {
   "cell_type": "code",
   "execution_count": 78,
   "metadata": {},
   "outputs": [
    {
     "data": {
      "text/plain": [
       "['52.5370823', '103.8604347']"
      ]
     },
     "execution_count": 78,
     "metadata": {},
     "output_type": "execute_result"
    }
   ],
   "source": [
    "re.search('@.*\\,.*\\,', driver.current_url).group(0)[1:-1].split(',')"
   ]
  },
  {
   "cell_type": "code",
   "execution_count": 65,
   "metadata": {},
   "outputs": [
    {
     "data": {
      "text/plain": [
       "'Уличные Часы'"
      ]
     },
     "execution_count": 65,
     "metadata": {},
     "output_type": "execute_result"
    }
   ],
   "source": [
    "driver.find_element(By.TAG_NAME, 'h1').text"
   ]
  },
  {
   "cell_type": "code",
   "execution_count": 70,
   "metadata": {},
   "outputs": [
    {
     "data": {
      "text/plain": [
       "['4,8', '(11)']"
      ]
     },
     "execution_count": 70,
     "metadata": {},
     "output_type": "execute_result"
    }
   ],
   "source": [
    "driver.find_element(By.CLASS_NAME, 'F7nice ').text.split()"
   ]
  },
  {
   "cell_type": "code",
   "execution_count": 69,
   "metadata": {},
   "outputs": [
    {
     "data": {
      "text/plain": [
       "'Бакинская ул., 44, Ангарск, Иркутская обл., 665808'"
      ]
     },
     "execution_count": 69,
     "metadata": {},
     "output_type": "execute_result"
    }
   ],
   "source": [
    "driver.find_element(By.CLASS_NAME, 'Io6YTe ').text"
   ]
  },
  {
   "cell_type": "markdown",
   "metadata": {},
   "source": [
    "## Поточный сбор"
   ]
  },
  {
   "cell_type": "code",
   "execution_count": 55,
   "metadata": {},
   "outputs": [],
   "source": [
    "from selenium import webdriver\n",
    "from selenium.webdriver.common.action_chains import ActionChains\n",
    "from selenium.webdriver.common.by import By\n",
    "from multiprocessing.dummy import Pool\n",
    "from multiprocessing import cpu_count, freeze_support\n",
    "import time\n",
    "import re\n",
    "from tqdm import notebook\n",
    "import pandas as pd"
   ]
  },
  {
   "cell_type": "code",
   "execution_count": 56,
   "metadata": {},
   "outputs": [
    {
     "data": {
      "application/vnd.jupyter.widget-view+json": {
       "model_id": "81b57d16a5b44a97b37ed56bc11ecd58",
       "version_major": 2,
       "version_minor": 0
      },
      "text/plain": [
       "  0%|          | 0/3 [00:00<?, ?it/s]"
      ]
     },
     "metadata": {},
     "output_type": "display_data"
    }
   ],
   "source": [
    "for i in notebook.tqdm(range(3)):\n",
    "    time.sleep(0.2)"
   ]
  },
  {
   "cell_type": "code",
   "execution_count": 96,
   "metadata": {},
   "outputs": [],
   "source": [
    "def get_table(values):\n",
    "    driver = webdriver.Chrome()\n",
    "#   Линия прогресса\n",
    "    for url in notebook.tqdm(values, total = len(values)):\n",
    "        \n",
    "        driver.get(url)\n",
    "#       Ожидание прогрузки, делаем вид, что это быстрый человек и медленная программа  \n",
    "        time.sleep(5)\n",
    "    \n",
    "        title = driver.find_element(By.TAG_NAME, 'h1').text\n",
    "        lat, lon = re.search('@.*\\,.*\\,', driver.current_url).group(0)[1:-1].split(',')\n",
    "        try:\n",
    "            rating, reviews = driver.find_element(By.CLASS_NAME, 'F7nice ').text.split()\n",
    "        except:\n",
    "            rating = ''\n",
    "            reviews = ''\n",
    "        \n",
    "        address = driver.find_element(By.CLASS_NAME, 'Io6YTe ').text\n",
    "        \n",
    "        result.append({'title':title,\n",
    "                       'rating':rating.replace(',', '.'),\n",
    "                       'reviews':re.search('\\d*', reviews).group(0),\n",
    "                       'address':address,\n",
    "                       'lat':lat,\n",
    "                       'lon':lon})\n",
    "    driver.quit()"
   ]
  },
  {
   "cell_type": "code",
   "execution_count": 93,
   "metadata": {},
   "outputs": [
    {
     "data": {
      "application/vnd.jupyter.widget-view+json": {
       "model_id": "eafc8dab2c894b3d8ee813b8870f5d90",
       "version_major": 2,
       "version_minor": 0
      },
      "text/plain": [
       "  0%|          | 0/1 [00:00<?, ?it/s]"
      ]
     },
     "metadata": {},
     "output_type": "display_data"
    }
   ],
   "source": [
    "get_table(['https://www.google.ru/maps/place/%D0%9F%D0%B0%D1%80%D0%BA+%22%D0%9E%D1%82%D1%80%D0%B0%D0%B6%D0%B5%D0%BD%D0%B8%D0%B5+%D0%A1%D0%BE%D0%B2%D0%B5%D1%82%D1%81%D0%BA%D0%BE%D0%B3%D0%BE+%D0%A1%D0%BE%D1%8E%D0%B7%D0%B0%22./data=!4m7!3m6!1s0x5d079d307f327b0f:0x45282c0ff27b23df!8m2!3d52.5251064!4d103.8644376!16s%2Fg%2F11s0pw14gf!19sChIJD3syfzCdB10R3yN78g8sKEU?authuser=0&hl=ru&rclk=1'])"
   ]
  },
  {
   "cell_type": "code",
   "execution_count": 99,
   "metadata": {},
   "outputs": [],
   "source": [
    "result = []"
   ]
  },
  {
   "cell_type": "code",
   "execution_count": 100,
   "metadata": {},
   "outputs": [
    {
     "data": {
      "application/vnd.jupyter.widget-view+json": {
       "model_id": "36f34d0563ad4b249506309d19570467",
       "version_major": 2,
       "version_minor": 0
      },
      "text/plain": [
       "  0%|          | 0/3 [00:00<?, ?it/s]"
      ]
     },
     "metadata": {},
     "output_type": "display_data"
    },
    {
     "data": {
      "application/vnd.jupyter.widget-view+json": {
       "model_id": "6d4f9ddf200c41bf9666866d6794ed56",
       "version_major": 2,
       "version_minor": 0
      },
      "text/plain": [
       "  0%|          | 0/3 [00:00<?, ?it/s]"
      ]
     },
     "metadata": {},
     "output_type": "display_data"
    },
    {
     "data": {
      "application/vnd.jupyter.widget-view+json": {
       "model_id": "5771a2372f894767ab07c10e0413eecb",
       "version_major": 2,
       "version_minor": 0
      },
      "text/plain": [
       "  0%|          | 0/3 [00:00<?, ?it/s]"
      ]
     },
     "metadata": {},
     "output_type": "display_data"
    },
    {
     "data": {
      "application/vnd.jupyter.widget-view+json": {
       "model_id": "09bbd4dad67440f6bf14c9530e5b3de9",
       "version_major": 2,
       "version_minor": 0
      },
      "text/plain": [
       "  0%|          | 0/3 [00:00<?, ?it/s]"
      ]
     },
     "metadata": {},
     "output_type": "display_data"
    }
   ],
   "source": [
    "datalist = urls\n",
    "\n",
    "if __name__== \"__main__\":\n",
    "    freeze_support()\n",
    "    pool = Pool()\n",
    "#     ITERATION_COUNT = cpu_count()-1 if len(datalist) >= cpu_count()-1 else len(datalist)\n",
    "\n",
    "    ITERATION_COUNT = 4\n",
    "    count_per_iteration = len(datalist) / float(ITERATION_COUNT)\n",
    "\n",
    "    for i in range(0, ITERATION_COUNT):\n",
    "        list_start = int(count_per_iteration * i)\n",
    "        list_end = int(count_per_iteration * (i+1))\n",
    "        pool.apply_async(get_table, [datalist[list_start:list_end]])"
   ]
  },
  {
   "cell_type": "code",
   "execution_count": 101,
   "metadata": {},
   "outputs": [],
   "source": [
    "df = pd.DataFrame(result)"
   ]
  },
  {
   "cell_type": "code",
   "execution_count": 102,
   "metadata": {},
   "outputs": [
    {
     "data": {
      "text/html": [
       "<div>\n",
       "<style scoped>\n",
       "    .dataframe tbody tr th:only-of-type {\n",
       "        vertical-align: middle;\n",
       "    }\n",
       "\n",
       "    .dataframe tbody tr th {\n",
       "        vertical-align: top;\n",
       "    }\n",
       "\n",
       "    .dataframe thead th {\n",
       "        text-align: right;\n",
       "    }\n",
       "</style>\n",
       "<table border=\"1\" class=\"dataframe\">\n",
       "  <thead>\n",
       "    <tr style=\"text-align: right;\">\n",
       "      <th></th>\n",
       "      <th>title</th>\n",
       "      <th>rating</th>\n",
       "      <th>reviews</th>\n",
       "      <th>address</th>\n",
       "      <th>lat</th>\n",
       "      <th>lon</th>\n",
       "    </tr>\n",
       "  </thead>\n",
       "  <tbody>\n",
       "    <tr>\n",
       "      <th>0</th>\n",
       "      <td>Парк \"Отражение Советского Союза\".</td>\n",
       "      <td></td>\n",
       "      <td></td>\n",
       "      <td>ул. 7А микрорайон, Ангарск, Иркутская обл., 66...</td>\n",
       "      <td>52.5251064</td>\n",
       "      <td>103.8644376</td>\n",
       "    </tr>\n",
       "    <tr>\n",
       "      <th>1</th>\n",
       "      <td>Сурок</td>\n",
       "      <td>4.3</td>\n",
       "      <td></td>\n",
       "      <td>Ангарск, Иркутская обл., 665825</td>\n",
       "      <td>52.5379355</td>\n",
       "      <td>103.8779758</td>\n",
       "    </tr>\n",
       "    <tr>\n",
       "      <th>2</th>\n",
       "      <td>Ангарский Городской Музей</td>\n",
       "      <td>4.7</td>\n",
       "      <td></td>\n",
       "      <td>ул. Глинки, 25, Ангарск, Иркутская обл., 665830</td>\n",
       "      <td>52.5422222</td>\n",
       "      <td>103.885</td>\n",
       "    </tr>\n",
       "    <tr>\n",
       "      <th>3</th>\n",
       "      <td>Уличные Часы</td>\n",
       "      <td>4.8</td>\n",
       "      <td></td>\n",
       "      <td>Бакинская ул., 44, Ангарск, Иркутская обл., 66...</td>\n",
       "      <td>52.5370823</td>\n",
       "      <td>103.8604347</td>\n",
       "    </tr>\n",
       "    <tr>\n",
       "      <th>4</th>\n",
       "      <td>Музей Минералов</td>\n",
       "      <td>4.8</td>\n",
       "      <td></td>\n",
       "      <td>73-й кв-л, 4, Ангарск, Иркутская обл., 665830</td>\n",
       "      <td>52.5422212</td>\n",
       "      <td>103.8847852</td>\n",
       "    </tr>\n",
       "    <tr>\n",
       "      <th>5</th>\n",
       "      <td>голуби мира</td>\n",
       "      <td></td>\n",
       "      <td></td>\n",
       "      <td>Ветеранам Великой Отечественной, Ангарск, Ирку...</td>\n",
       "      <td>52.5121328</td>\n",
       "      <td>103.861511</td>\n",
       "    </tr>\n",
       "    <tr>\n",
       "      <th>6</th>\n",
       "      <td>парк Нефтехимиков</td>\n",
       "      <td>4.5</td>\n",
       "      <td></td>\n",
       "      <td>ул. Парк Нефтехимиков, Ангарск, Иркутская обл....</td>\n",
       "      <td>52.5430047</td>\n",
       "      <td>103.8838866</td>\n",
       "    </tr>\n",
       "    <tr>\n",
       "      <th>7</th>\n",
       "      <td>Памятный знак медицинским работникам Ангарска</td>\n",
       "      <td>5.0</td>\n",
       "      <td></td>\n",
       "      <td>ул. Чайковского, Ангарск, Иркутская обл., 665819</td>\n",
       "      <td>52.5292771</td>\n",
       "      <td>103.872675</td>\n",
       "    </tr>\n",
       "    <tr>\n",
       "      <th>8</th>\n",
       "      <td>Крылья</td>\n",
       "      <td>5.0</td>\n",
       "      <td></td>\n",
       "      <td>ул. Первый промышленный массив, 22, Ангарск, И...</td>\n",
       "      <td>52.5519196</td>\n",
       "      <td>103.8753888</td>\n",
       "    </tr>\n",
       "    <tr>\n",
       "      <th>9</th>\n",
       "      <td>парк Строителей</td>\n",
       "      <td></td>\n",
       "      <td></td>\n",
       "      <td>Ангарск, Иркутская обл., 665813</td>\n",
       "      <td>52.5348115</td>\n",
       "      <td>103.8870114</td>\n",
       "    </tr>\n",
       "    <tr>\n",
       "      <th>10</th>\n",
       "      <td>Ангарский \"Городской музей часов\"</td>\n",
       "      <td>4.7</td>\n",
       "      <td></td>\n",
       "      <td>ул. Карла Маркса, 31, Ангарск, Иркутская обл.,...</td>\n",
       "      <td>52.542224</td>\n",
       "      <td>103.88969</td>\n",
       "    </tr>\n",
       "    <tr>\n",
       "      <th>11</th>\n",
       "      <td>Музей Победы</td>\n",
       "      <td>4.7</td>\n",
       "      <td></td>\n",
       "      <td>микрорайон 12а, дом, Ангарск, Иркутская обл., ...</td>\n",
       "      <td>52.51254</td>\n",
       "      <td>103.8620161</td>\n",
       "    </tr>\n",
       "  </tbody>\n",
       "</table>\n",
       "</div>"
      ],
      "text/plain": [
       "                                            title rating reviews  \\\n",
       "0              Парк \"Отражение Советского Союза\".                  \n",
       "1                                           Сурок    4.3           \n",
       "2                       Ангарский Городской Музей    4.7           \n",
       "3                                    Уличные Часы    4.8           \n",
       "4                                 Музей Минералов    4.8           \n",
       "5                                     голуби мира                  \n",
       "6                               парк Нефтехимиков    4.5           \n",
       "7   Памятный знак медицинским работникам Ангарска    5.0           \n",
       "8                                          Крылья    5.0           \n",
       "9                                 парк Строителей                  \n",
       "10              Ангарский \"Городской музей часов\"    4.7           \n",
       "11                                   Музей Победы    4.7           \n",
       "\n",
       "                                              address         lat          lon  \n",
       "0   ул. 7А микрорайон, Ангарск, Иркутская обл., 66...  52.5251064  103.8644376  \n",
       "1                     Ангарск, Иркутская обл., 665825  52.5379355  103.8779758  \n",
       "2     ул. Глинки, 25, Ангарск, Иркутская обл., 665830  52.5422222      103.885  \n",
       "3   Бакинская ул., 44, Ангарск, Иркутская обл., 66...  52.5370823  103.8604347  \n",
       "4       73-й кв-л, 4, Ангарск, Иркутская обл., 665830  52.5422212  103.8847852  \n",
       "5   Ветеранам Великой Отечественной, Ангарск, Ирку...  52.5121328   103.861511  \n",
       "6   ул. Парк Нефтехимиков, Ангарск, Иркутская обл....  52.5430047  103.8838866  \n",
       "7    ул. Чайковского, Ангарск, Иркутская обл., 665819  52.5292771   103.872675  \n",
       "8   ул. Первый промышленный массив, 22, Ангарск, И...  52.5519196  103.8753888  \n",
       "9                     Ангарск, Иркутская обл., 665813  52.5348115  103.8870114  \n",
       "10  ул. Карла Маркса, 31, Ангарск, Иркутская обл.,...   52.542224    103.88969  \n",
       "11  микрорайон 12а, дом, Ангарск, Иркутская обл., ...    52.51254  103.8620161  "
      ]
     },
     "execution_count": 102,
     "metadata": {},
     "output_type": "execute_result"
    }
   ],
   "source": [
    "df"
   ]
  },
  {
   "cell_type": "code",
   "execution_count": 51,
   "metadata": {},
   "outputs": [],
   "source": [
    "import ast"
   ]
  },
  {
   "cell_type": "code",
   "execution_count": 56,
   "metadata": {},
   "outputs": [
    {
     "data": {
      "text/plain": [
       "list"
      ]
     },
     "execution_count": 56,
     "metadata": {},
     "output_type": "execute_result"
    }
   ],
   "source": [
    "type(ast.literal_eval('[1,2]'))"
   ]
  }
 ],
 "metadata": {
  "kernelspec": {
   "display_name": "Python 3 (ipykernel)",
   "language": "python",
   "name": "python3"
  },
  "language_info": {
   "codemirror_mode": {
    "name": "ipython",
    "version": 3
   },
   "file_extension": ".py",
   "mimetype": "text/x-python",
   "name": "python",
   "nbconvert_exporter": "python",
   "pygments_lexer": "ipython3",
   "version": "3.8.3"
  }
 },
 "nbformat": 4,
 "nbformat_minor": 4
}
